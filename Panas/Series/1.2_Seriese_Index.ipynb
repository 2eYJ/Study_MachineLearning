{
 "cells": [
  {
   "cell_type": "code",
   "execution_count": 1,
   "metadata": {},
   "outputs": [],
   "source": [
    "# -*- conding: utf-8 -*-\n",
    "# List to Series\n",
    "\n",
    "import pandas as pd # pandas를 불러온다. pandas를 줄여서 pd라고 하겠당"
   ]
  },
  {
   "cell_type": "code",
   "execution_count": 2,
   "metadata": {},
   "outputs": [],
   "source": [
    "#리스트에서 시리즈로 변환할때 딕셔너리 키 처럼 인덱스로 변환될 값이 없다.\n",
    "#따라서 별도로 입력을 안하면 디폴트로 정수형 위치 인덱스가 자동으로 지정 된다."
   ]
  },
  {
   "cell_type": "code",
   "execution_count": 3,
   "metadata": {},
   "outputs": [
    {
     "name": "stdout",
     "output_type": "stream",
     "text": [
      "0    2021-03-07\n",
      "1          7272\n",
      "2           ABC\n",
      "3          5.12\n",
      "4          True\n",
      "dtype: object\n"
     ]
    }
   ],
   "source": [
    "\n",
    "list_data = ['2021-03-07', 7272, 'ABC', 5.12, True]\n",
    "sr = pd.Series(list_data)\n",
    "print(sr)"
   ]
  },
  {
   "cell_type": "code",
   "execution_count": 4,
   "metadata": {},
   "outputs": [
    {
     "name": "stdout",
     "output_type": "stream",
     "text": [
      "RangeIndex(start=0, stop=5, step=1)\n",
      "['2021-03-07' 7272 'ABC' 5.12 True]\n"
     ]
    }
   ],
   "source": [
    "idx = sr.index\n",
    "val = sr.values\n",
    "print(idx)\n",
    "print(val)"
   ]
  },
  {
   "cell_type": "code",
   "execution_count": 13,
   "metadata": {},
   "outputs": [],
   "source": [
    "# 원소 선택\n",
    "#원소의 위치를 나타내는 주소 인덱스를 이용하여  시리즈의 원소를 선택한다\n",
    "#인덱스의 두가지 유형의 따라 사용법이 다르다\n",
    "# 정수형 위치 인덱스는 [] 위치를 나타내는 숫자를 입력\n",
    "# 인덱스 이름을을 사용할 떄는 [] 안에 '' 나 \"\"  따옴표를 사용 하여 입력"
   ]
  },
  {
   "cell_type": "code",
   "execution_count": 17,
   "metadata": {},
   "outputs": [
    {
     "name": "stdout",
     "output_type": "stream",
     "text": [
      "0    2021-03-07\n",
      "1          7272\n",
      "2           ABC\n",
      "3          5.12\n",
      "4          True\n",
      "dtype: object\n"
     ]
    }
   ],
   "source": [
    "#정수형 위치 인덱스\n",
    "list_data = ['2021-03-07', 7272, 'ABC', 5.12, True]\n",
    "sr = pd.Series(list_data)\n",
    "print(sr)\n"
   ]
  },
  {
   "cell_type": "code",
   "execution_count": 18,
   "metadata": {},
   "outputs": [
    {
     "name": "stdout",
     "output_type": "stream",
     "text": [
      "2021-03-07\n"
     ]
    }
   ],
   "source": [
    "print(sr[0]) "
   ]
  },
  {
   "cell_type": "code",
   "execution_count": 19,
   "metadata": {},
   "outputs": [
    {
     "name": "stdout",
     "output_type": "stream",
     "text": [
      "0    2021-03-07\n",
      "1          7272\n",
      "2           ABC\n",
      "dtype: object\n"
     ]
    }
   ],
   "source": [
    "print(sr[0:3])"
   ]
  },
  {
   "cell_type": "code",
   "execution_count": 20,
   "metadata": {},
   "outputs": [
    {
     "name": "stdout",
     "output_type": "stream",
     "text": [
      "0    2021-03-07\n",
      "3          5.12\n",
      "dtype: object\n"
     ]
    }
   ],
   "source": [
    "print(sr[[0,3]])"
   ]
  },
  {
   "cell_type": "code",
   "execution_count": 21,
   "metadata": {},
   "outputs": [
    {
     "name": "stdout",
     "output_type": "stream",
     "text": [
      "이름              YJ\n",
      "생년월일    1995-11-09\n",
      "성별               남\n",
      "학생여부         False\n",
      "dtype: object\n"
     ]
    }
   ],
   "source": [
    "#인덱스 이름\n",
    "list_data = ['YJ', '1995-11-09', '남', False]\n",
    "sr = pd.Series(list_data, index=['이름', '생년월일', '성별', '학생여부'])\n",
    "print(sr)\n"
   ]
  },
  {
   "cell_type": "code",
   "execution_count": 22,
   "metadata": {},
   "outputs": [
    {
     "name": "stdout",
     "output_type": "stream",
     "text": [
      "YJ\n",
      "YJ\n"
     ]
    }
   ],
   "source": [
    "print(sr['이름']) # 이름 라벨을 가진 원소 선택\n",
    "print(sr[0]) # 첫번째 원소를 선택"
   ]
  },
  {
   "cell_type": "code",
   "execution_count": 10,
   "metadata": {},
   "outputs": [
    {
     "name": "stdout",
     "output_type": "stream",
     "text": [
      "이름              YJ\n",
      "생년월일    1995-11-09\n",
      "성별               남\n",
      "dtype: object\n"
     ]
    }
   ],
   "source": [
    "print(sr['이름':'성별']) #이름 부터 성별 까지 원소 선택"
   ]
  },
  {
   "cell_type": "code",
   "execution_count": 11,
   "metadata": {},
   "outputs": [
    {
     "name": "stdout",
     "output_type": "stream",
     "text": [
      "이름    YJ\n",
      "성별     남\n",
      "dtype: object\n"
     ]
    }
   ],
   "source": [
    "print(sr[[\"이름\", \"성별\"]]) # 이름과 성별 라벨 가진 원소 선택"
   ]
  },
  {
   "cell_type": "code",
   "execution_count": null,
   "metadata": {},
   "outputs": [],
   "source": []
  },
  {
   "cell_type": "code",
   "execution_count": null,
   "metadata": {},
   "outputs": [],
   "source": []
  },
  {
   "cell_type": "code",
   "execution_count": null,
   "metadata": {},
   "outputs": [],
   "source": []
  }
 ],
 "metadata": {
  "kernelspec": {
   "display_name": "Python 3",
   "language": "python",
   "name": "python3"
  },
  "language_info": {
   "codemirror_mode": {
    "name": "ipython",
    "version": 3
   },
   "file_extension": ".py",
   "mimetype": "text/x-python",
   "name": "python",
   "nbconvert_exporter": "python",
   "pygments_lexer": "ipython3",
   "version": "3.7.6"
  }
 },
 "nbformat": 4,
 "nbformat_minor": 4
}
